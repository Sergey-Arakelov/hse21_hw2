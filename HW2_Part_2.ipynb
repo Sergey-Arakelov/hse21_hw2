{
  "nbformat": 4,
  "nbformat_minor": 0,
  "metadata": {
    "colab": {
      "name": "HW2_Part_2.ipynb",
      "provenance": [],
      "collapsed_sections": []
    },
    "kernelspec": {
      "name": "python3",
      "display_name": "Python 3"
    },
    "language_info": {
      "name": "python"
    }
  },
  "cells": [
    {
      "cell_type": "markdown",
      "source": [
        "Подготовка файлов"
      ],
      "metadata": {
        "id": "60RQ73i3G_M4"
      }
    },
    {
      "cell_type": "code",
      "execution_count": 1,
      "metadata": {
        "colab": {
          "base_uri": "https://localhost:8080/"
        },
        "id": "k-DHa2F4G7d-",
        "outputId": "19587c3f-bdb1-432f-9069-73bbbe4dfda5"
      },
      "outputs": [
        {
          "output_type": "stream",
          "name": "stdout",
          "text": [
            "--2021-12-18 19:56:22--  https://raw.githubusercontent.com/Sergey-Arakelov/hse21_hw1/main/Poil_scaffold.fa\n",
            "Resolving raw.githubusercontent.com (raw.githubusercontent.com)... 185.199.108.133, 185.199.109.133, 185.199.110.133, ...\n",
            "Connecting to raw.githubusercontent.com (raw.githubusercontent.com)|185.199.108.133|:443... connected.\n",
            "HTTP request sent, awaiting response... 200 OK\n",
            "Length: 3924175 (3.7M) [text/plain]\n",
            "Saving to: ‘Poil_scaffold.fa’\n",
            "\n",
            "Poil_scaffold.fa    100%[===================>]   3.74M  --.-KB/s    in 0.03s   \n",
            "\n",
            "2021-12-18 19:56:22 (108 MB/s) - ‘Poil_scaffold.fa’ saved [3924175/3924175]\n",
            "\n"
          ]
        }
      ],
      "source": [
        "!wget https://raw.githubusercontent.com/Sergey-Arakelov/hse21_hw1/main/Poil_scaffold.fa"
      ]
    },
    {
      "cell_type": "code",
      "source": [
        "!wget https://raw.githubusercontent.com/Sergey-Arakelov/hse21_hw2/main/gms2.lst"
      ],
      "metadata": {
        "colab": {
          "base_uri": "https://localhost:8080/"
        },
        "id": "j6J5zb1pHc9v",
        "outputId": "10f3ddb8-d169-4a5e-8a87-0fd0e6f44022"
      },
      "execution_count": 2,
      "outputs": [
        {
          "output_type": "stream",
          "name": "stdout",
          "text": [
            "--2021-12-18 19:57:34--  https://raw.githubusercontent.com/Sergey-Arakelov/hse21_hw2/main/gms2.lst\n",
            "Resolving raw.githubusercontent.com (raw.githubusercontent.com)... 185.199.108.133, 185.199.109.133, 185.199.110.133, ...\n",
            "Connecting to raw.githubusercontent.com (raw.githubusercontent.com)|185.199.108.133|:443... connected.\n",
            "HTTP request sent, awaiting response... 200 OK\n",
            "Length: 219346 (214K) [text/plain]\n",
            "Saving to: ‘gms2.lst’\n",
            "\n",
            "\rgms2.lst              0%[                    ]       0  --.-KB/s               \rgms2.lst            100%[===================>] 214.21K  --.-KB/s    in 0.003s  \n",
            "\n",
            "2021-12-18 19:57:34 (73.1 MB/s) - ‘gms2.lst’ saved [219346/219346]\n",
            "\n"
          ]
        }
      ]
    },
    {
      "cell_type": "code",
      "source": [
        "!wget https://raw.githubusercontent.com/Sergey-Arakelov/hse21_hw2/main/proteins.fasta"
      ],
      "metadata": {
        "colab": {
          "base_uri": "https://localhost:8080/"
        },
        "id": "Ma1uSA5VHvza",
        "outputId": "f3824e60-32a5-4c91-f36b-5b18e3ea87f5"
      },
      "execution_count": 3,
      "outputs": [
        {
          "output_type": "stream",
          "name": "stdout",
          "text": [
            "--2021-12-18 19:58:20--  https://raw.githubusercontent.com/Sergey-Arakelov/hse21_hw2/main/proteins.fasta\n",
            "Resolving raw.githubusercontent.com (raw.githubusercontent.com)... 185.199.108.133, 185.199.109.133, 185.199.110.133, ...\n",
            "Connecting to raw.githubusercontent.com (raw.githubusercontent.com)|185.199.108.133|:443... connected.\n",
            "HTTP request sent, awaiting response... 200 OK\n",
            "Length: 1426003 (1.4M) [text/plain]\n",
            "Saving to: ‘proteins.fasta’\n",
            "\n",
            "\rproteins.fasta        0%[                    ]       0  --.-KB/s               \rproteins.fasta      100%[===================>]   1.36M  --.-KB/s    in 0.009s  \n",
            "\n",
            "2021-12-18 19:58:20 (153 MB/s) - ‘proteins.fasta’ saved [1426003/1426003]\n",
            "\n"
          ]
        }
      ]
    },
    {
      "cell_type": "code",
      "source": [
        "!wget https://raw.githubusercontent.com/Sergey-Arakelov/hse21_hw2/main/scaffolds.hits_from_MIL_1.txt"
      ],
      "metadata": {
        "colab": {
          "base_uri": "https://localhost:8080/"
        },
        "id": "DqXzRMMNH7CZ",
        "outputId": "e12341d9-f56a-4900-d945-c499c5861491"
      },
      "execution_count": 4,
      "outputs": [
        {
          "output_type": "stream",
          "name": "stdout",
          "text": [
            "--2021-12-18 19:59:06--  https://raw.githubusercontent.com/Sergey-Arakelov/hse21_hw2/main/scaffolds.hits_from_MIL_1.txt\n",
            "Resolving raw.githubusercontent.com (raw.githubusercontent.com)... 185.199.108.133, 185.199.109.133, 185.199.110.133, ...\n",
            "Connecting to raw.githubusercontent.com (raw.githubusercontent.com)|185.199.108.133|:443... connected.\n",
            "HTTP request sent, awaiting response... 200 OK\n",
            "Length: 830561 (811K) [text/plain]\n",
            "Saving to: ‘scaffolds.hits_from_MIL_1.txt’\n",
            "\n",
            "\r          scaffolds   0%[                    ]       0  --.-KB/s               \rscaffolds.hits_from 100%[===================>] 811.09K  --.-KB/s    in 0.006s  \n",
            "\n",
            "2021-12-18 19:59:06 (142 MB/s) - ‘scaffolds.hits_from_MIL_1.txt’ saved [830561/830561]\n",
            "\n"
          ]
        }
      ]
    },
    {
      "cell_type": "code",
      "source": [
        "!wget https://raw.githubusercontent.com/Sergey-Arakelov/hse21_hw2/main/scaffolds.hits_from_SwissProt.txt"
      ],
      "metadata": {
        "colab": {
          "base_uri": "https://localhost:8080/"
        },
        "id": "SBgKG5p6IGFT",
        "outputId": "8767386e-87d9-4164-f7ac-70ea3f7e9a36"
      },
      "execution_count": 5,
      "outputs": [
        {
          "output_type": "stream",
          "name": "stdout",
          "text": [
            "--2021-12-18 20:00:03--  https://raw.githubusercontent.com/Sergey-Arakelov/hse21_hw2/main/scaffolds.hits_from_SwissProt.txt\n",
            "Resolving raw.githubusercontent.com (raw.githubusercontent.com)... 185.199.108.133, 185.199.109.133, 185.199.110.133, ...\n",
            "Connecting to raw.githubusercontent.com (raw.githubusercontent.com)|185.199.108.133|:443... connected.\n",
            "HTTP request sent, awaiting response... 200 OK\n",
            "Length: 65267 (64K) [text/plain]\n",
            "Saving to: ‘scaffolds.hits_from_SwissProt.txt’\n",
            "\n",
            "\r          scaffolds   0%[                    ]       0  --.-KB/s               \rscaffolds.hits_from 100%[===================>]  63.74K  --.-KB/s    in 0.001s  \n",
            "\n",
            "2021-12-18 20:00:03 (49.6 MB/s) - ‘scaffolds.hits_from_SwissProt.txt’ saved [65267/65267]\n",
            "\n"
          ]
        }
      ]
    },
    {
      "cell_type": "markdown",
      "source": [
        "Скачиваем геном близкородственной бактерии T.oleivorans"
      ],
      "metadata": {
        "id": "RevI38UDIVAi"
      }
    },
    {
      "cell_type": "markdown",
      "source": [
        "Геном, последовательности генов (нт) и белков (протеом) для бактерии Thalassolituus oleivorans MIL-1"
      ],
      "metadata": {
        "id": "3IkXEf-hKY9K"
      }
    },
    {
      "cell_type": "code",
      "source": [
        "!sh -c \"$(curl -fsSL ftp://ftp.ncbi.nlm.nih.gov/entrez/entrezdirect/install-edirect.sh)\""
      ],
      "metadata": {
        "colab": {
          "base_uri": "https://localhost:8080/"
        },
        "id": "_UfS0A4SKWFa",
        "outputId": "87147676-00b5-4e81-f3d8-b0af293183f9"
      },
      "execution_count": 6,
      "outputs": [
        {
          "output_type": "stream",
          "name": "stdout",
          "text": [
            "\n",
            "Entrez Direct has been successfully downloaded and installed.\n",
            "\n",
            "In order to complete the configuration process, please execute the following:\n",
            "\n",
            "  echo \"export PATH=\\${PATH}:/root/edirect\" >> ${HOME}/.bashrc\n",
            "\n",
            "or manually edit the PATH variable assignment in your .bashrc file.\n",
            "\n",
            "Would you like to do that automatically now? [y/N]\n",
            "y\n",
            "OK, done.\n",
            "\n",
            "To activate EDirect for this terminal session, please execute the following:\n",
            "\n",
            "export PATH=${PATH}:${HOME}/edirect\n",
            "\n"
          ]
        }
      ]
    },
    {
      "cell_type": "code",
      "source": [
        "!$HOME/edirect/efetch -db nuccore -id HF680312 -format gb  >  T_oleivorans_MIL_1.gbk"
      ],
      "metadata": {
        "id": "K0CNjGoiKdeb"
      },
      "execution_count": 7,
      "outputs": []
    },
    {
      "cell_type": "code",
      "source": [
        "!pip install biopython"
      ],
      "metadata": {
        "colab": {
          "base_uri": "https://localhost:8080/"
        },
        "id": "f5shUofKKjml",
        "outputId": "f0253226-1e20-404a-fc80-2fecdcc58541"
      },
      "execution_count": 8,
      "outputs": [
        {
          "output_type": "stream",
          "name": "stdout",
          "text": [
            "Collecting biopython\n",
            "  Downloading biopython-1.79-cp37-cp37m-manylinux_2_5_x86_64.manylinux1_x86_64.whl (2.3 MB)\n",
            "\u001b[?25l\r\u001b[K     |▏                               | 10 kB 17.9 MB/s eta 0:00:01\r\u001b[K     |▎                               | 20 kB 23.7 MB/s eta 0:00:01\r\u001b[K     |▍                               | 30 kB 27.1 MB/s eta 0:00:01\r\u001b[K     |▋                               | 40 kB 29.1 MB/s eta 0:00:01\r\u001b[K     |▊                               | 51 kB 31.9 MB/s eta 0:00:01\r\u001b[K     |▉                               | 61 kB 32.3 MB/s eta 0:00:01\r\u001b[K     |█                               | 71 kB 29.4 MB/s eta 0:00:01\r\u001b[K     |█▏                              | 81 kB 30.4 MB/s eta 0:00:01\r\u001b[K     |█▎                              | 92 kB 30.7 MB/s eta 0:00:01\r\u001b[K     |█▍                              | 102 kB 31.7 MB/s eta 0:00:01\r\u001b[K     |█▋                              | 112 kB 31.7 MB/s eta 0:00:01\r\u001b[K     |█▊                              | 122 kB 31.7 MB/s eta 0:00:01\r\u001b[K     |█▉                              | 133 kB 31.7 MB/s eta 0:00:01\r\u001b[K     |██                              | 143 kB 31.7 MB/s eta 0:00:01\r\u001b[K     |██▏                             | 153 kB 31.7 MB/s eta 0:00:01\r\u001b[K     |██▎                             | 163 kB 31.7 MB/s eta 0:00:01\r\u001b[K     |██▍                             | 174 kB 31.7 MB/s eta 0:00:01\r\u001b[K     |██▋                             | 184 kB 31.7 MB/s eta 0:00:01\r\u001b[K     |██▊                             | 194 kB 31.7 MB/s eta 0:00:01\r\u001b[K     |██▉                             | 204 kB 31.7 MB/s eta 0:00:01\r\u001b[K     |███                             | 215 kB 31.7 MB/s eta 0:00:01\r\u001b[K     |███▏                            | 225 kB 31.7 MB/s eta 0:00:01\r\u001b[K     |███▎                            | 235 kB 31.7 MB/s eta 0:00:01\r\u001b[K     |███▌                            | 245 kB 31.7 MB/s eta 0:00:01\r\u001b[K     |███▋                            | 256 kB 31.7 MB/s eta 0:00:01\r\u001b[K     |███▊                            | 266 kB 31.7 MB/s eta 0:00:01\r\u001b[K     |███▉                            | 276 kB 31.7 MB/s eta 0:00:01\r\u001b[K     |████                            | 286 kB 31.7 MB/s eta 0:00:01\r\u001b[K     |████▏                           | 296 kB 31.7 MB/s eta 0:00:01\r\u001b[K     |████▎                           | 307 kB 31.7 MB/s eta 0:00:01\r\u001b[K     |████▌                           | 317 kB 31.7 MB/s eta 0:00:01\r\u001b[K     |████▋                           | 327 kB 31.7 MB/s eta 0:00:01\r\u001b[K     |████▊                           | 337 kB 31.7 MB/s eta 0:00:01\r\u001b[K     |████▉                           | 348 kB 31.7 MB/s eta 0:00:01\r\u001b[K     |█████                           | 358 kB 31.7 MB/s eta 0:00:01\r\u001b[K     |█████▏                          | 368 kB 31.7 MB/s eta 0:00:01\r\u001b[K     |█████▎                          | 378 kB 31.7 MB/s eta 0:00:01\r\u001b[K     |█████▌                          | 389 kB 31.7 MB/s eta 0:00:01\r\u001b[K     |█████▋                          | 399 kB 31.7 MB/s eta 0:00:01\r\u001b[K     |█████▊                          | 409 kB 31.7 MB/s eta 0:00:01\r\u001b[K     |██████                          | 419 kB 31.7 MB/s eta 0:00:01\r\u001b[K     |██████                          | 430 kB 31.7 MB/s eta 0:00:01\r\u001b[K     |██████▏                         | 440 kB 31.7 MB/s eta 0:00:01\r\u001b[K     |██████▎                         | 450 kB 31.7 MB/s eta 0:00:01\r\u001b[K     |██████▌                         | 460 kB 31.7 MB/s eta 0:00:01\r\u001b[K     |██████▋                         | 471 kB 31.7 MB/s eta 0:00:01\r\u001b[K     |██████▊                         | 481 kB 31.7 MB/s eta 0:00:01\r\u001b[K     |███████                         | 491 kB 31.7 MB/s eta 0:00:01\r\u001b[K     |███████                         | 501 kB 31.7 MB/s eta 0:00:01\r\u001b[K     |███████▏                        | 512 kB 31.7 MB/s eta 0:00:01\r\u001b[K     |███████▎                        | 522 kB 31.7 MB/s eta 0:00:01\r\u001b[K     |███████▌                        | 532 kB 31.7 MB/s eta 0:00:01\r\u001b[K     |███████▋                        | 542 kB 31.7 MB/s eta 0:00:01\r\u001b[K     |███████▊                        | 552 kB 31.7 MB/s eta 0:00:01\r\u001b[K     |████████                        | 563 kB 31.7 MB/s eta 0:00:01\r\u001b[K     |████████                        | 573 kB 31.7 MB/s eta 0:00:01\r\u001b[K     |████████▏                       | 583 kB 31.7 MB/s eta 0:00:01\r\u001b[K     |████████▍                       | 593 kB 31.7 MB/s eta 0:00:01\r\u001b[K     |████████▌                       | 604 kB 31.7 MB/s eta 0:00:01\r\u001b[K     |████████▋                       | 614 kB 31.7 MB/s eta 0:00:01\r\u001b[K     |████████▊                       | 624 kB 31.7 MB/s eta 0:00:01\r\u001b[K     |█████████                       | 634 kB 31.7 MB/s eta 0:00:01\r\u001b[K     |█████████                       | 645 kB 31.7 MB/s eta 0:00:01\r\u001b[K     |█████████▏                      | 655 kB 31.7 MB/s eta 0:00:01\r\u001b[K     |█████████▍                      | 665 kB 31.7 MB/s eta 0:00:01\r\u001b[K     |█████████▌                      | 675 kB 31.7 MB/s eta 0:00:01\r\u001b[K     |█████████▋                      | 686 kB 31.7 MB/s eta 0:00:01\r\u001b[K     |█████████▊                      | 696 kB 31.7 MB/s eta 0:00:01\r\u001b[K     |██████████                      | 706 kB 31.7 MB/s eta 0:00:01\r\u001b[K     |██████████                      | 716 kB 31.7 MB/s eta 0:00:01\r\u001b[K     |██████████▏                     | 727 kB 31.7 MB/s eta 0:00:01\r\u001b[K     |██████████▍                     | 737 kB 31.7 MB/s eta 0:00:01\r\u001b[K     |██████████▌                     | 747 kB 31.7 MB/s eta 0:00:01\r\u001b[K     |██████████▋                     | 757 kB 31.7 MB/s eta 0:00:01\r\u001b[K     |██████████▉                     | 768 kB 31.7 MB/s eta 0:00:01\r\u001b[K     |███████████                     | 778 kB 31.7 MB/s eta 0:00:01\r\u001b[K     |███████████                     | 788 kB 31.7 MB/s eta 0:00:01\r\u001b[K     |███████████▏                    | 798 kB 31.7 MB/s eta 0:00:01\r\u001b[K     |███████████▍                    | 808 kB 31.7 MB/s eta 0:00:01\r\u001b[K     |███████████▌                    | 819 kB 31.7 MB/s eta 0:00:01\r\u001b[K     |███████████▋                    | 829 kB 31.7 MB/s eta 0:00:01\r\u001b[K     |███████████▉                    | 839 kB 31.7 MB/s eta 0:00:01\r\u001b[K     |████████████                    | 849 kB 31.7 MB/s eta 0:00:01\r\u001b[K     |████████████                    | 860 kB 31.7 MB/s eta 0:00:01\r\u001b[K     |████████████▏                   | 870 kB 31.7 MB/s eta 0:00:01\r\u001b[K     |████████████▍                   | 880 kB 31.7 MB/s eta 0:00:01\r\u001b[K     |████████████▌                   | 890 kB 31.7 MB/s eta 0:00:01\r\u001b[K     |████████████▋                   | 901 kB 31.7 MB/s eta 0:00:01\r\u001b[K     |████████████▉                   | 911 kB 31.7 MB/s eta 0:00:01\r\u001b[K     |█████████████                   | 921 kB 31.7 MB/s eta 0:00:01\r\u001b[K     |█████████████                   | 931 kB 31.7 MB/s eta 0:00:01\r\u001b[K     |█████████████▎                  | 942 kB 31.7 MB/s eta 0:00:01\r\u001b[K     |█████████████▍                  | 952 kB 31.7 MB/s eta 0:00:01\r\u001b[K     |█████████████▌                  | 962 kB 31.7 MB/s eta 0:00:01\r\u001b[K     |█████████████▋                  | 972 kB 31.7 MB/s eta 0:00:01\r\u001b[K     |█████████████▉                  | 983 kB 31.7 MB/s eta 0:00:01\r\u001b[K     |██████████████                  | 993 kB 31.7 MB/s eta 0:00:01\r\u001b[K     |██████████████                  | 1.0 MB 31.7 MB/s eta 0:00:01\r\u001b[K     |██████████████▎                 | 1.0 MB 31.7 MB/s eta 0:00:01\r\u001b[K     |██████████████▍                 | 1.0 MB 31.7 MB/s eta 0:00:01\r\u001b[K     |██████████████▌                 | 1.0 MB 31.7 MB/s eta 0:00:01\r\u001b[K     |██████████████▋                 | 1.0 MB 31.7 MB/s eta 0:00:01\r\u001b[K     |██████████████▉                 | 1.1 MB 31.7 MB/s eta 0:00:01\r\u001b[K     |███████████████                 | 1.1 MB 31.7 MB/s eta 0:00:01\r\u001b[K     |███████████████                 | 1.1 MB 31.7 MB/s eta 0:00:01\r\u001b[K     |███████████████▎                | 1.1 MB 31.7 MB/s eta 0:00:01\r\u001b[K     |███████████████▍                | 1.1 MB 31.7 MB/s eta 0:00:01\r\u001b[K     |███████████████▌                | 1.1 MB 31.7 MB/s eta 0:00:01\r\u001b[K     |███████████████▊                | 1.1 MB 31.7 MB/s eta 0:00:01\r\u001b[K     |███████████████▉                | 1.1 MB 31.7 MB/s eta 0:00:01\r\u001b[K     |████████████████                | 1.1 MB 31.7 MB/s eta 0:00:01\r\u001b[K     |████████████████                | 1.1 MB 31.7 MB/s eta 0:00:01\r\u001b[K     |████████████████▎               | 1.2 MB 31.7 MB/s eta 0:00:01\r\u001b[K     |████████████████▍               | 1.2 MB 31.7 MB/s eta 0:00:01\r\u001b[K     |████████████████▌               | 1.2 MB 31.7 MB/s eta 0:00:01\r\u001b[K     |████████████████▊               | 1.2 MB 31.7 MB/s eta 0:00:01\r\u001b[K     |████████████████▉               | 1.2 MB 31.7 MB/s eta 0:00:01\r\u001b[K     |█████████████████               | 1.2 MB 31.7 MB/s eta 0:00:01\r\u001b[K     |█████████████████               | 1.2 MB 31.7 MB/s eta 0:00:01\r\u001b[K     |█████████████████▎              | 1.2 MB 31.7 MB/s eta 0:00:01\r\u001b[K     |█████████████████▍              | 1.2 MB 31.7 MB/s eta 0:00:01\r\u001b[K     |█████████████████▌              | 1.2 MB 31.7 MB/s eta 0:00:01\r\u001b[K     |█████████████████▊              | 1.3 MB 31.7 MB/s eta 0:00:01\r\u001b[K     |█████████████████▉              | 1.3 MB 31.7 MB/s eta 0:00:01\r\u001b[K     |██████████████████              | 1.3 MB 31.7 MB/s eta 0:00:01\r\u001b[K     |██████████████████▏             | 1.3 MB 31.7 MB/s eta 0:00:01\r\u001b[K     |██████████████████▎             | 1.3 MB 31.7 MB/s eta 0:00:01\r\u001b[K     |██████████████████▍             | 1.3 MB 31.7 MB/s eta 0:00:01\r\u001b[K     |██████████████████▌             | 1.3 MB 31.7 MB/s eta 0:00:01\r\u001b[K     |██████████████████▊             | 1.3 MB 31.7 MB/s eta 0:00:01\r\u001b[K     |██████████████████▉             | 1.3 MB 31.7 MB/s eta 0:00:01\r\u001b[K     |███████████████████             | 1.4 MB 31.7 MB/s eta 0:00:01\r\u001b[K     |███████████████████▏            | 1.4 MB 31.7 MB/s eta 0:00:01\r\u001b[K     |███████████████████▎            | 1.4 MB 31.7 MB/s eta 0:00:01\r\u001b[K     |███████████████████▍            | 1.4 MB 31.7 MB/s eta 0:00:01\r\u001b[K     |███████████████████▌            | 1.4 MB 31.7 MB/s eta 0:00:01\r\u001b[K     |███████████████████▊            | 1.4 MB 31.7 MB/s eta 0:00:01\r\u001b[K     |███████████████████▉            | 1.4 MB 31.7 MB/s eta 0:00:01\r\u001b[K     |████████████████████            | 1.4 MB 31.7 MB/s eta 0:00:01\r\u001b[K     |████████████████████▏           | 1.4 MB 31.7 MB/s eta 0:00:01\r\u001b[K     |████████████████████▎           | 1.4 MB 31.7 MB/s eta 0:00:01\r\u001b[K     |████████████████████▍           | 1.5 MB 31.7 MB/s eta 0:00:01\r\u001b[K     |████████████████████▋           | 1.5 MB 31.7 MB/s eta 0:00:01\r\u001b[K     |████████████████████▊           | 1.5 MB 31.7 MB/s eta 0:00:01\r\u001b[K     |████████████████████▉           | 1.5 MB 31.7 MB/s eta 0:00:01\r\u001b[K     |█████████████████████           | 1.5 MB 31.7 MB/s eta 0:00:01\r\u001b[K     |█████████████████████▏          | 1.5 MB 31.7 MB/s eta 0:00:01\r\u001b[K     |█████████████████████▎          | 1.5 MB 31.7 MB/s eta 0:00:01\r\u001b[K     |█████████████████████▍          | 1.5 MB 31.7 MB/s eta 0:00:01\r\u001b[K     |█████████████████████▋          | 1.5 MB 31.7 MB/s eta 0:00:01\r\u001b[K     |█████████████████████▊          | 1.5 MB 31.7 MB/s eta 0:00:01\r\u001b[K     |█████████████████████▉          | 1.6 MB 31.7 MB/s eta 0:00:01\r\u001b[K     |██████████████████████          | 1.6 MB 31.7 MB/s eta 0:00:01\r\u001b[K     |██████████████████████▏         | 1.6 MB 31.7 MB/s eta 0:00:01\r\u001b[K     |██████████████████████▎         | 1.6 MB 31.7 MB/s eta 0:00:01\r\u001b[K     |██████████████████████▍         | 1.6 MB 31.7 MB/s eta 0:00:01\r\u001b[K     |██████████████████████▋         | 1.6 MB 31.7 MB/s eta 0:00:01\r\u001b[K     |██████████████████████▊         | 1.6 MB 31.7 MB/s eta 0:00:01\r\u001b[K     |██████████████████████▉         | 1.6 MB 31.7 MB/s eta 0:00:01\r\u001b[K     |███████████████████████         | 1.6 MB 31.7 MB/s eta 0:00:01\r\u001b[K     |███████████████████████▏        | 1.6 MB 31.7 MB/s eta 0:00:01\r\u001b[K     |███████████████████████▎        | 1.7 MB 31.7 MB/s eta 0:00:01\r\u001b[K     |███████████████████████▍        | 1.7 MB 31.7 MB/s eta 0:00:01\r\u001b[K     |███████████████████████▋        | 1.7 MB 31.7 MB/s eta 0:00:01\r\u001b[K     |███████████████████████▊        | 1.7 MB 31.7 MB/s eta 0:00:01\r\u001b[K     |███████████████████████▉        | 1.7 MB 31.7 MB/s eta 0:00:01\r\u001b[K     |████████████████████████        | 1.7 MB 31.7 MB/s eta 0:00:01\r\u001b[K     |████████████████████████▏       | 1.7 MB 31.7 MB/s eta 0:00:01\r\u001b[K     |████████████████████████▎       | 1.7 MB 31.7 MB/s eta 0:00:01\r\u001b[K     |████████████████████████▍       | 1.7 MB 31.7 MB/s eta 0:00:01\r\u001b[K     |████████████████████████▋       | 1.8 MB 31.7 MB/s eta 0:00:01\r\u001b[K     |████████████████████████▊       | 1.8 MB 31.7 MB/s eta 0:00:01\r\u001b[K     |████████████████████████▉       | 1.8 MB 31.7 MB/s eta 0:00:01\r\u001b[K     |█████████████████████████       | 1.8 MB 31.7 MB/s eta 0:00:01\r\u001b[K     |█████████████████████████▏      | 1.8 MB 31.7 MB/s eta 0:00:01\r\u001b[K     |█████████████████████████▎      | 1.8 MB 31.7 MB/s eta 0:00:01\r\u001b[K     |█████████████████████████▌      | 1.8 MB 31.7 MB/s eta 0:00:01\r\u001b[K     |█████████████████████████▋      | 1.8 MB 31.7 MB/s eta 0:00:01\r\u001b[K     |█████████████████████████▊      | 1.8 MB 31.7 MB/s eta 0:00:01\r\u001b[K     |█████████████████████████▉      | 1.8 MB 31.7 MB/s eta 0:00:01\r\u001b[K     |██████████████████████████      | 1.9 MB 31.7 MB/s eta 0:00:01\r\u001b[K     |██████████████████████████▏     | 1.9 MB 31.7 MB/s eta 0:00:01\r\u001b[K     |██████████████████████████▎     | 1.9 MB 31.7 MB/s eta 0:00:01\r\u001b[K     |██████████████████████████▌     | 1.9 MB 31.7 MB/s eta 0:00:01\r\u001b[K     |██████████████████████████▋     | 1.9 MB 31.7 MB/s eta 0:00:01\r\u001b[K     |██████████████████████████▊     | 1.9 MB 31.7 MB/s eta 0:00:01\r\u001b[K     |██████████████████████████▉     | 1.9 MB 31.7 MB/s eta 0:00:01\r\u001b[K     |███████████████████████████     | 1.9 MB 31.7 MB/s eta 0:00:01\r\u001b[K     |███████████████████████████▏    | 1.9 MB 31.7 MB/s eta 0:00:01\r\u001b[K     |███████████████████████████▎    | 1.9 MB 31.7 MB/s eta 0:00:01\r\u001b[K     |███████████████████████████▌    | 2.0 MB 31.7 MB/s eta 0:00:01\r\u001b[K     |███████████████████████████▋    | 2.0 MB 31.7 MB/s eta 0:00:01\r\u001b[K     |███████████████████████████▊    | 2.0 MB 31.7 MB/s eta 0:00:01\r\u001b[K     |████████████████████████████    | 2.0 MB 31.7 MB/s eta 0:00:01\r\u001b[K     |████████████████████████████    | 2.0 MB 31.7 MB/s eta 0:00:01\r\u001b[K     |████████████████████████████▏   | 2.0 MB 31.7 MB/s eta 0:00:01\r\u001b[K     |████████████████████████████▎   | 2.0 MB 31.7 MB/s eta 0:00:01\r\u001b[K     |████████████████████████████▌   | 2.0 MB 31.7 MB/s eta 0:00:01\r\u001b[K     |████████████████████████████▋   | 2.0 MB 31.7 MB/s eta 0:00:01\r\u001b[K     |████████████████████████████▊   | 2.0 MB 31.7 MB/s eta 0:00:01\r\u001b[K     |█████████████████████████████   | 2.1 MB 31.7 MB/s eta 0:00:01\r\u001b[K     |█████████████████████████████   | 2.1 MB 31.7 MB/s eta 0:00:01\r\u001b[K     |█████████████████████████████▏  | 2.1 MB 31.7 MB/s eta 0:00:01\r\u001b[K     |█████████████████████████████▎  | 2.1 MB 31.7 MB/s eta 0:00:01\r\u001b[K     |█████████████████████████████▌  | 2.1 MB 31.7 MB/s eta 0:00:01\r\u001b[K     |█████████████████████████████▋  | 2.1 MB 31.7 MB/s eta 0:00:01\r\u001b[K     |█████████████████████████████▊  | 2.1 MB 31.7 MB/s eta 0:00:01\r\u001b[K     |██████████████████████████████  | 2.1 MB 31.7 MB/s eta 0:00:01\r\u001b[K     |██████████████████████████████  | 2.1 MB 31.7 MB/s eta 0:00:01\r\u001b[K     |██████████████████████████████▏ | 2.2 MB 31.7 MB/s eta 0:00:01\r\u001b[K     |██████████████████████████████▍ | 2.2 MB 31.7 MB/s eta 0:00:01\r\u001b[K     |██████████████████████████████▌ | 2.2 MB 31.7 MB/s eta 0:00:01\r\u001b[K     |██████████████████████████████▋ | 2.2 MB 31.7 MB/s eta 0:00:01\r\u001b[K     |██████████████████████████████▊ | 2.2 MB 31.7 MB/s eta 0:00:01\r\u001b[K     |███████████████████████████████ | 2.2 MB 31.7 MB/s eta 0:00:01\r\u001b[K     |███████████████████████████████ | 2.2 MB 31.7 MB/s eta 0:00:01\r\u001b[K     |███████████████████████████████▏| 2.2 MB 31.7 MB/s eta 0:00:01\r\u001b[K     |███████████████████████████████▍| 2.2 MB 31.7 MB/s eta 0:00:01\r\u001b[K     |███████████████████████████████▌| 2.2 MB 31.7 MB/s eta 0:00:01\r\u001b[K     |███████████████████████████████▋| 2.3 MB 31.7 MB/s eta 0:00:01\r\u001b[K     |███████████████████████████████▊| 2.3 MB 31.7 MB/s eta 0:00:01\r\u001b[K     |████████████████████████████████| 2.3 MB 31.7 MB/s eta 0:00:01\r\u001b[K     |████████████████████████████████| 2.3 MB 31.7 MB/s \n",
            "\u001b[?25hRequirement already satisfied: numpy in /usr/local/lib/python3.7/dist-packages (from biopython) (1.19.5)\n",
            "Installing collected packages: biopython\n",
            "Successfully installed biopython-1.79\n"
          ]
        }
      ]
    },
    {
      "cell_type": "markdown",
      "source": [
        "Аннотация генома (пример)"
      ],
      "metadata": {
        "id": "5faSMyTfK_fT"
      }
    },
    {
      "cell_type": "code",
      "source": [
        "!head -n 20 gms2.lst"
      ],
      "metadata": {
        "colab": {
          "base_uri": "https://localhost:8080/"
        },
        "id": "1Vo07sInK89d",
        "outputId": "dec6850f-9a21-4001-b839-be6df0bd8edd"
      },
      "execution_count": 9,
      "outputs": [
        {
          "output_type": "stream",
          "name": "stdout",
          "text": [
            "# GeneMark.hmm-2 LST format\n",
            "# GeneMark.hmm-2 prokaryotic version: 1.25_lic\n",
            "# File with sequence: Poil_scaffold.fa\n",
            "# File with native parameters: GMS2.mod\n",
            "# Native species name and build: unspecified GeneMarkS-2-1.14_1.25_lic\n",
            "# File with MetaGeneMark parameters: /content/gms2_linux_64/mgm_11.mod\n",
            "# translation table: 11\n",
            "# output date start: Sat Dec 18 18:57:50 2021\n",
            "\n",
            "# sequence-region 1 3831677\n",
            "SequenceID: scaffold1_len3831667_cov232\n",
            "     1   -   <3    323     321 native ATGAGG 6 1\n",
            "     2   -    396    839     444 atypical GCGAGA 5 1\n",
            "     3   -    864    1385     522 atypical AGGAAG 6 1\n",
            "     4   -    1823    2650     828 atypical AGGATT 9 1\n",
            "     5   +    2996    3118     123 native TGGAGG 6 1\n",
            "     6   -    3293    4027     735 native AGGTCA 7 1\n",
            "     7   -    4365    5540    1176 native AGGAGA 8 1\n",
            "     8   -    5565    7712    2148 native TGGAGA 7 1\n",
            "     9   +    8081    8875     795 native AGTAGA 5 1\n"
          ]
        }
      ]
    },
    {
      "cell_type": "code",
      "source": [
        "from Bio import SeqIO\n",
        "\n",
        "recs = []\n",
        "orders = []\n",
        "\n",
        "for record in SeqIO.parse(\"/content/Poil_scaffold.fa\", \"fasta\"):\n",
        "    recs.append(record)\n",
        "    orders.append(record.id[record.id.find('cov')+3:])"
      ],
      "metadata": {
        "id": "IyErICueLEVF"
      },
      "execution_count": 10,
      "outputs": []
    },
    {
      "cell_type": "code",
      "source": [
        "print(\"Количество скаффолдов: \", len(recs))"
      ],
      "metadata": {
        "colab": {
          "base_uri": "https://localhost:8080/"
        },
        "id": "kDZ84-miLP77",
        "outputId": "9c05cea6-7ddc-41d0-86a9-dd854e519d84"
      },
      "execution_count": 11,
      "outputs": [
        {
          "output_type": "stream",
          "name": "stdout",
          "text": [
            "Количество скаффолдов:  69\n"
          ]
        }
      ]
    },
    {
      "cell_type": "code",
      "source": [
        "for record in recs:\n",
        "    record.annotations['molecule_type'] = 'DNA'\n",
        "    record.format(\"genbank\")"
      ],
      "metadata": {
        "colab": {
          "base_uri": "https://localhost:8080/"
        },
        "id": "UGkgAuscLRhw",
        "outputId": "b2196c71-4d22-422f-921f-30894cde4f00"
      },
      "execution_count": 12,
      "outputs": [
        {
          "output_type": "stream",
          "name": "stderr",
          "text": [
            "/usr/local/lib/python3.7/dist-packages/Bio/SeqIO/InsdcIO.py:730: BiopythonWarning: Increasing length of locus line to allow long name. This will result in fields that are not in usual positions.\n",
            "  BiopythonWarning,\n"
          ]
        }
      ]
    },
    {
      "cell_type": "code",
      "source": [
        "SeqIO.write(recs, \"GENOME.gbk\", \"genbank\")"
      ],
      "metadata": {
        "colab": {
          "base_uri": "https://localhost:8080/"
        },
        "id": "pWfLZXKgLZGC",
        "outputId": "fe80a0df-459e-4552-b85f-ca00dd720c32"
      },
      "execution_count": 13,
      "outputs": [
        {
          "output_type": "stream",
          "name": "stderr",
          "text": [
            "/usr/local/lib/python3.7/dist-packages/Bio/SeqIO/InsdcIO.py:730: BiopythonWarning: Increasing length of locus line to allow long name. This will result in fields that are not in usual positions.\n",
            "  BiopythonWarning,\n"
          ]
        },
        {
          "output_type": "execute_result",
          "data": {
            "text/plain": [
              "69"
            ]
          },
          "metadata": {},
          "execution_count": 13
        }
      ]
    },
    {
      "cell_type": "markdown",
      "source": [
        "Добавляем координаты генов"
      ],
      "metadata": {
        "id": "UHpLm02FMaaM"
      }
    },
    {
      "cell_type": "code",
      "source": [
        "from pprint import pprint\n",
        "from Bio.SeqFeature import SeqFeature, FeatureLocation\n",
        "\n",
        "fts = {}\n",
        "flag = 0\n",
        "i = 0\n",
        "\n",
        "f = open('gms2.lst', 'r')\n",
        "for line in f:\n",
        "    if flag == 1 and line[0] == '#':\n",
        "        flag = 0\n",
        "    elif line[:10] == 'SequenceID':\n",
        "        flag = 1\n",
        "        i = line[line.find('cov')+3:line.find('\\n')]\n",
        "        fts[i] = []\n",
        "\n",
        "    elif flag == 1:\n",
        "        idx = int(line[:6])\n",
        "        strand = line[9]\n",
        "        if strand == '-':\n",
        "            strand = -1\n",
        "        elif strand == '+':\n",
        "            strand = 1\n",
        "        else:\n",
        "            strand = 0\n",
        "        start = int(line[14:line.find(\" \", 14)])\n",
        "        end = int(line[line.find(\" \", 14)+4: line.find(\" \", line.find(\" \", 14)+4)])\n",
        "        sc = SeqFeature(FeatureLocation(start, end, strand=strand), type=\"CDS\")\n",
        "        sc.qualifiers['locus_tag'] = [str(idx)]\n",
        "        fts[i].append(sc)"
      ],
      "metadata": {
        "id": "nfFGmPSBLb_h"
      },
      "execution_count": 14,
      "outputs": []
    },
    {
      "cell_type": "code",
      "source": [
        "for i, record in enumerate(recs):\n",
        "    record.features = fts[orders[i]]"
      ],
      "metadata": {
        "id": "kK020aEjMlqm"
      },
      "execution_count": 15,
      "outputs": []
    },
    {
      "cell_type": "code",
      "source": [
        "SeqIO.write(recs, \"GENOME.gbk\", \"genbank\")"
      ],
      "metadata": {
        "colab": {
          "base_uri": "https://localhost:8080/"
        },
        "id": "RAi_pEtkMnza",
        "outputId": "2db770f4-b20e-4a3c-b556-30f348a6c740"
      },
      "execution_count": 16,
      "outputs": [
        {
          "output_type": "stream",
          "name": "stderr",
          "text": [
            "/usr/local/lib/python3.7/dist-packages/Bio/SeqIO/InsdcIO.py:730: BiopythonWarning: Increasing length of locus line to allow long name. This will result in fields that are not in usual positions.\n",
            "  BiopythonWarning,\n"
          ]
        },
        {
          "output_type": "execute_result",
          "data": {
            "text/plain": [
              "69"
            ]
          },
          "metadata": {},
          "execution_count": 16
        }
      ]
    },
    {
      "cell_type": "markdown",
      "source": [
        "Добавляем трансляции генов (аминокислотные посл-ти)"
      ],
      "metadata": {
        "id": "E4bOyRGkMuc8"
      }
    },
    {
      "cell_type": "code",
      "source": [
        "for record in SeqIO.parse(\"proteins.fasta\", \"fasta\"):\n",
        "    for key in fts.keys():\n",
        "        for f in fts[key]:\n",
        "            if record.id == f.qualifiers['locus_tag'][0]:\n",
        "                f.qualifiers['translation'] = [record.seq]"
      ],
      "metadata": {
        "id": "ectnI0OhMqn5"
      },
      "execution_count": 17,
      "outputs": []
    },
    {
      "cell_type": "code",
      "source": [
        "for i, record in enumerate(recs):\n",
        "    record.features = fts[orders[i]]"
      ],
      "metadata": {
        "id": "5tkZd2BGM0V0"
      },
      "execution_count": 18,
      "outputs": []
    },
    {
      "cell_type": "code",
      "source": [
        "SeqIO.write(recs, \"GENOME.gbk\", \"genbank\")"
      ],
      "metadata": {
        "colab": {
          "base_uri": "https://localhost:8080/"
        },
        "id": "4eSyMKBWM3HU",
        "outputId": "46a43771-5c18-4ce2-a8a8-b829500ad8e9"
      },
      "execution_count": 19,
      "outputs": [
        {
          "output_type": "stream",
          "name": "stderr",
          "text": [
            "/usr/local/lib/python3.7/dist-packages/Bio/SeqIO/InsdcIO.py:730: BiopythonWarning: Increasing length of locus line to allow long name. This will result in fields that are not in usual positions.\n",
            "  BiopythonWarning,\n"
          ]
        },
        {
          "output_type": "execute_result",
          "data": {
            "text/plain": [
              "69"
            ]
          },
          "metadata": {},
          "execution_count": 19
        }
      ]
    },
    {
      "cell_type": "code",
      "source": [
        "pprint(vars(fts[orders[0]][0]))"
      ],
      "metadata": {
        "colab": {
          "base_uri": "https://localhost:8080/"
        },
        "id": "mbfThAPfM6Yz",
        "outputId": "8818edc6-b385-4a4d-8bdf-4c5c64e74162"
      },
      "execution_count": 20,
      "outputs": [
        {
          "output_type": "stream",
          "name": "stdout",
          "text": [
            "{'id': '<unknown id>',\n",
            " 'location': FeatureLocation(ExactPosition(3), ExactPosition(323), strand=-1),\n",
            " 'qualifiers': OrderedDict([('locus_tag', ['1']),\n",
            "                            ('translation',\n",
            "                             [Seq('MPKYTKPRKTWQYSNEFKVKAVQLSLIEGIQVKEVAVTLDIHPFMLSRWRKEYR...LKK')])]),\n",
            " 'type': 'CDS'}\n"
          ]
        }
      ]
    },
    {
      "cell_type": "markdown",
      "source": [
        "Добавляем функции белков (из бактерии MIL-1)"
      ],
      "metadata": {
        "id": "G-z9veXgNB10"
      }
    },
    {
      "cell_type": "markdown",
      "source": [
        "Часть файла scaffolds.hits_from_MIL_1.txt:"
      ],
      "metadata": {
        "id": "T27fViw2NE1D"
      }
    },
    {
      "cell_type": "code",
      "source": [
        "f = open('scaffolds.hits_from_MIL_1.txt', 'r')\n",
        "was = ''\n",
        "for line in f:\n",
        "    idx = line[:line.find('\\t')]\n",
        "    if was != idx:\n",
        "        was = idx\n",
        "        content = line[line.find('CCU'):line.find('.',line.find('CCU'))+2]\n",
        "        exitFlag=False\n",
        "        for i in orders:\n",
        "            for sc in fts[i]:\n",
        "                if sc.qualifiers['locus_tag'][0] == idx:\n",
        "                    sc.qualifiers['note'] = [content]\n",
        "                    exitFlag=True\n",
        "                    break\n",
        "            if exitFlag:\n",
        "                break"
      ],
      "metadata": {
        "id": "Cpsxat3vM9YV"
      },
      "execution_count": 21,
      "outputs": []
    },
    {
      "cell_type": "code",
      "source": [
        "pprint(fts[orders[0]][2].qualifiers['note'])"
      ],
      "metadata": {
        "colab": {
          "base_uri": "https://localhost:8080/"
        },
        "id": "Iowta5PGNH9G",
        "outputId": "2301eba5-9655-45c3-9217-358fba0618c9"
      },
      "execution_count": 22,
      "outputs": [
        {
          "output_type": "stream",
          "name": "stdout",
          "text": [
            "['CCU71928.1']\n"
          ]
        }
      ]
    },
    {
      "cell_type": "code",
      "source": [
        "mil_1_genome = SeqIO.read(\"/content/T_oleivorans_MIL_1.gbk\", \"genbank\")"
      ],
      "metadata": {
        "id": "ybR0YzBqNKUf"
      },
      "execution_count": 23,
      "outputs": []
    },
    {
      "cell_type": "code",
      "source": [
        "for  mil_f in mil_1_genome.features:\n",
        "  if 'protein_id' not in mil_f.qualifiers:\n",
        "    continue\n",
        "    \n",
        "  for j in fts.keys():\n",
        "        for f in fts[j]:\n",
        "            if 'note' in f.qualifiers: \n",
        "                if f.qualifiers['note'][0] == mil_f.qualifiers['protein_id'][0]:\n",
        "                    f.qualifiers['product'] = mil_f.qualifiers['product']"
      ],
      "metadata": {
        "id": "eAFxB_E1NMGO"
      },
      "execution_count": 24,
      "outputs": []
    },
    {
      "cell_type": "code",
      "source": [
        "pprint(fts[orders[0]][0].qualifiers)"
      ],
      "metadata": {
        "colab": {
          "base_uri": "https://localhost:8080/"
        },
        "id": "cXJPOT5-NTuc",
        "outputId": "b4d0985f-0ba2-4c2f-c919-0f78c4785191"
      },
      "execution_count": 25,
      "outputs": [
        {
          "output_type": "stream",
          "name": "stdout",
          "text": [
            "OrderedDict([('locus_tag', ['1']),\n",
            "             ('translation',\n",
            "              [Seq('MPKYTKPRKTWQYSNEFKVKAVQLSLIEGIQVKEVAVTLDIHPFMLSRWRKEYR...LKK')]),\n",
            "             ('note', ['CCU71653.1']),\n",
            "             ('product', ['transposase orfA'])])\n"
          ]
        }
      ]
    },
    {
      "cell_type": "code",
      "source": [
        "for i, record in enumerate(recs):\n",
        "    record.features = fts[orders[i]]"
      ],
      "metadata": {
        "id": "-XExT7O_NZUf"
      },
      "execution_count": 26,
      "outputs": []
    },
    {
      "cell_type": "code",
      "source": [
        "SeqIO.write(recs, \"GENOME.gbk\", \"genbank\")"
      ],
      "metadata": {
        "colab": {
          "base_uri": "https://localhost:8080/"
        },
        "id": "_UFExwcLNcOu",
        "outputId": "5866a73b-cd21-4aa2-9ace-565d494c1957"
      },
      "execution_count": 27,
      "outputs": [
        {
          "output_type": "stream",
          "name": "stderr",
          "text": [
            "/usr/local/lib/python3.7/dist-packages/Bio/SeqIO/InsdcIO.py:730: BiopythonWarning: Increasing length of locus line to allow long name. This will result in fields that are not in usual positions.\n",
            "  BiopythonWarning,\n"
          ]
        },
        {
          "output_type": "execute_result",
          "data": {
            "text/plain": [
              "69"
            ]
          },
          "metadata": {},
          "execution_count": 27
        }
      ]
    },
    {
      "cell_type": "markdown",
      "source": [
        "Добавляем функции белков (из БД SwissProt)"
      ],
      "metadata": {
        "id": "nMzFrn57NgYr"
      }
    },
    {
      "cell_type": "markdown",
      "source": [
        "Читаем информацию из файла scaffolds.hits_from_SwissProt.txt"
      ],
      "metadata": {
        "id": "tTmWQF8oNj6r"
      }
    },
    {
      "cell_type": "code",
      "source": [
        "!head scaffolds.hits_from_SwissProt.txt"
      ],
      "metadata": {
        "colab": {
          "base_uri": "https://localhost:8080/"
        },
        "id": "A-DEUJPHNeAn",
        "outputId": "b85e7797-3434-4c97-a208-684f5218dae3"
      },
      "execution_count": 28,
      "outputs": [
        {
          "output_type": "stream",
          "name": "stdout",
          "text": [
            "169\tsp|P55546|Y4LF_SINFN\t42.553\t141\t80\t1\t1\t141\t1\t140\t1.17e-36\t144\n",
            "430\tsp|Q06916|GUFA_MYXXA\t43.802\t242\t136\t0\t71\t312\t13\t254\t2.32e-47\t162\n",
            "430\tsp|Q3B4G1|ZUPT_CHLL3\t34.016\t244\t148\t6\t72\t304\t17\t258\t6.79e-25\t103\n",
            "430\tsp|Q8N1S5|S39AB_HUMAN\t40.625\t160\t83\t3\t162\t312\t186\t342\t1.63e-23\t101\n",
            "430\tsp|Q6P6S2|S39AB_RAT\t40.000\t160\t84\t3\t162\t312\t179\t335\t2.02e-23\t101\n",
            "430\tsp|Q2YDD4|S39AB_BOVIN\t40.000\t160\t84\t3\t162\t312\t185\t341\t2.61e-23\t101\n",
            "430\tsp|Q8NQK0|ZUPT_CORGL\t35.968\t253\t144\t7\t67\t306\t10\t257\t1.82e-22\t97.4\n",
            "430\tsp|Q8BWY7|S39AB_MOUSE\t41.176\t153\t78\t3\t169\t312\t193\t342\t2.68e-22\t98.6\n",
            "430\tsp|B3ECE6|ZUPT_CHLL2\t34.000\t250\t146\t10\t71\t306\t16\t260\t5.33e-22\t96.3\n",
            "430\tsp|Q28J44|S39AB_XENTR\t39.623\t159\t84\t3\t163\t312\t181\t336\t1.08e-21\t96.7\n"
          ]
        }
      ]
    },
    {
      "cell_type": "markdown",
      "source": [
        "Получить функции белков SwissProt из файла:"
      ],
      "metadata": {
        "id": "f9r2k0ZmNsGy"
      }
    },
    {
      "cell_type": "code",
      "source": [
        "!wget https://ftp.uniprot.org/pub/databases/uniprot/current_release/knowledgebase/complete/uniprot_sprot.dat.gz"
      ],
      "metadata": {
        "colab": {
          "base_uri": "https://localhost:8080/"
        },
        "id": "Gdq4YdNqNmkA",
        "outputId": "c5df33ed-6075-4019-ad12-6da5eb05ce58"
      },
      "execution_count": 29,
      "outputs": [
        {
          "output_type": "stream",
          "name": "stdout",
          "text": [
            "--2021-12-18 20:23:44--  https://ftp.uniprot.org/pub/databases/uniprot/current_release/knowledgebase/complete/uniprot_sprot.dat.gz\n",
            "Resolving ftp.uniprot.org (ftp.uniprot.org)... 128.175.240.195\n",
            "Connecting to ftp.uniprot.org (ftp.uniprot.org)|128.175.240.195|:443... connected.\n",
            "HTTP request sent, awaiting response... 200 OK\n",
            "Length: 625798251 (597M) [application/x-gzip]\n",
            "Saving to: ‘uniprot_sprot.dat.gz’\n",
            "\n",
            "uniprot_sprot.dat.g 100%[===================>] 596.81M   189MB/s    in 3.2s    \n",
            "\n",
            "2021-12-18 20:23:47 (189 MB/s) - ‘uniprot_sprot.dat.gz’ saved [625798251/625798251]\n",
            "\n"
          ]
        }
      ]
    },
    {
      "cell_type": "code",
      "source": [
        "!gzip -d uniprot_sprot.dat.gz"
      ],
      "metadata": {
        "id": "qL0uI__sNu7_"
      },
      "execution_count": 30,
      "outputs": []
    },
    {
      "cell_type": "code",
      "source": [
        "!grep Q55EH8 uniprot_sprot.dat"
      ],
      "metadata": {
        "colab": {
          "base_uri": "https://localhost:8080/"
        },
        "id": "fcKzWIDbNxUH",
        "outputId": "be8f12aa-d459-4beb-b692-bf012a80f018"
      },
      "execution_count": 31,
      "outputs": [
        {
          "output_type": "stream",
          "name": "stdout",
          "text": [
            "AC   Q55EH8;\n",
            "DR   PaxDb; Q55EH8; -.\n",
            "DR   InParanoid; Q55EH8; -.\n",
            "DR   PhylomeDB; Q55EH8; -.\n",
            "DR   PRO; PR:Q55EH8; -.\n"
          ]
        }
      ]
    },
    {
      "cell_type": "code",
      "source": [
        ""
      ],
      "metadata": {
        "id": "5-AvQYkXOEgt"
      },
      "execution_count": null,
      "outputs": []
    }
  ]
}